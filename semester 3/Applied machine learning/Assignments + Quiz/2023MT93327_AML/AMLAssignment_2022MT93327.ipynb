{
  "nbformat": 4,
  "nbformat_minor": 0,
  "metadata": {
    "colab": {
      "provenance": []
    },
    "kernelspec": {
      "name": "python3",
      "display_name": "Python 3"
    },
    "language_info": {
      "name": "python"
    }
  },
  "cells": [
    {
      "cell_type": "markdown",
      "source": [
        "Name: **Satish Kumar Sharma**\n",
        "\n",
        "BITS ID: **2022MT93327**\n",
        "\n",
        "Course Name: **Applied Machine Learning**\n",
        "\n",
        "Cource Id: **SEZG568**"
      ],
      "metadata": {
        "id": "pZ19jYwQ0L53"
      }
    },
    {
      "cell_type": "markdown",
      "source": [
        "**Problem statement 1:**  3 Marks - Compulsory\n",
        "\n",
        "**Key words: Assignment- Python - Data Exploration - Iris Dataset **t\n",
        "\n",
        "1. Download Iris dataset from UCI website.\n",
        "\n",
        "2. For all numeric attributes, compute Mean and Standard Deviation\n",
        "\n",
        "3. Create following scatter plots\n",
        "\n",
        "                a) Sepal Length vs Petal Length\n",
        "\n",
        "                b) Petal width vs Sepal width\n",
        "\n",
        "                c) Petal length vs Sepal length\n",
        "\n",
        "4. Create 5-point summary for all numeric attributes and visualize it.\n",
        "\n",
        "5. Create histogram (with 5 bins) from Sepal Length and Petal Width"
      ],
      "metadata": {
        "id": "kXCJHXRh7UD6"
      }
    },
    {
      "cell_type": "markdown",
      "source": [
        "**1. Downloading Iris dataset from UCI website:**\n",
        "I am downloading the Iris dataset from the UCI Machine Learning Repository. Frorm the given link: Iris Dataset\n",
        "Link: https://archive.ics.uci.edu/dataset/53/iris"
      ],
      "metadata": {
        "id": "3S1qhrVN9F9D"
      }
    },
    {
      "cell_type": "markdown",
      "source": [
        "**2. For all numeric attributes, compute Mean and Standard Deviation:**\n",
        "\n",
        "I will use Python and a library like pandas to load the dataset and calculate the mean and standard deviation. Please find as follow.\n",
        "\n",
        "python\n"
      ],
      "metadata": {
        "id": "NMzF-7M77hLB"
      }
    },
    {
      "cell_type": "code",
      "source": [
        "import pandas as pd\n",
        "\n",
        "# Loading the Iris dataset from given link\n",
        "url = \"https://archive.ics.uci.edu/ml/machine-learning-databases/iris/iris.data\"\n",
        "column_names = [\"sepal_length\", \"sepal_width\", \"petal_length\", \"petal_width\", \"class\"]\n",
        "iris_df = pd.read_csv(url, names=column_names)\n",
        "\n",
        "# Next Compute mean, and standard deviation on given data\n",
        "numeric_attributes = iris_df.drop(\"class\", axis=1)\n",
        "mean_values = numeric_attributes.mean()\n",
        "std_dev_values = numeric_attributes.std()\n",
        "\n",
        "print(\"\\nMean values as follow:\")\n",
        "print(mean_values)\n",
        "\n",
        "print(\"\\n\\nStandard Deviation values as follow:\")\n",
        "print(std_dev_values)\n"
      ],
      "metadata": {
        "colab": {
          "base_uri": "https://localhost:8080/"
        },
        "id": "lCeYg7_B76Op",
        "outputId": "37fdccf5-9be3-485c-c2ad-2c7447496192"
      },
      "execution_count": 1,
      "outputs": [
        {
          "output_type": "stream",
          "name": "stdout",
          "text": [
            "Mean Values as follow:\n",
            "sepal_length    5.843333\n",
            "sepal_width     3.054000\n",
            "petal_length    3.758667\n",
            "petal_width     1.198667\n",
            "dtype: float64\n",
            "\n",
            "Standard Deviation Values as follow:\n",
            "sepal_length    0.828066\n",
            "sepal_width     0.433594\n",
            "petal_length    1.764420\n",
            "petal_width     0.763161\n",
            "dtype: float64\n"
          ]
        }
      ]
    },
    {
      "cell_type": "markdown",
      "source": [
        "**3. Create scatter plots:**\n",
        "\n",
        "I am going to use the matplotlib library to create scatter plots. Please find as foolow for the specified plots:"
      ],
      "metadata": {
        "id": "dPkXlvHm797Y"
      }
    },
    {
      "cell_type": "code",
      "source": [
        "import matplotlib.pyplot as plt\n",
        "\n",
        "# Please find the Scatter plot: Sepal Length vs Petal Length\n",
        "plt.scatter(iris_df[\"sepal_length\"], iris_df[\"petal_length\"])\n",
        "plt.xlabel(\"X Sepal Length\")\n",
        "plt.ylabel(\"Y Petal Length\")\n",
        "plt.title(\"Sepal Length vs Petal Length Graph\")\n",
        "plt.show()\n",
        "\n",
        "# Please find theScatter plot: Petal Width vs Sepal Width\n",
        "plt.scatter(iris_df[\"petal_width\"], iris_df[\"sepal_width\"])\n",
        "plt.xlabel(\"X Petal Width\")\n",
        "plt.ylabel(\"Y Sepal Width\")\n",
        "plt.title(\"Petal Width vs Sepal Width Graph\")\n",
        "plt.show()\n",
        "\n",
        "# Please find theScatter plot: Petal Length vs Sepal Length\n",
        "plt.scatter(iris_df[\"petal_length\"], iris_df[\"sepal_length\"])\n",
        "plt.xlabel(\"X Petal Length\")\n",
        "plt.ylabel(\"Y Sepal Length\")\n",
        "plt.title(\"Petal Length vs Sepal Length Graph\")\n",
        "plt.show()\n"
      ],
      "metadata": {
        "colab": {
          "base_uri": "https://localhost:8080/",
          "height": 1000
        },
        "id": "6EJbp44-8EL4",
        "outputId": "a25676e9-e545-4086-fefa-166c9c48f395"
      },
      "execution_count": 4,
      "outputs": [
        {
          "output_type": "display_data",
          "data": {
            "text/plain": [
              "<Figure size 640x480 with 1 Axes>"
            ],
            "image/png": "[encoded data removed]"
          },
          "metadata": {}
        },
        {
          "output_type": "display_data",
          "data": {
            "text/plain": [
              "<Figure size 640x480 with 1 Axes>"
            ],
            "image/png": "[encoded data removed]"
          },
          "metadata": {}
        },
        {
          "output_type": "display_data",
          "data": {
            "text/plain": [
              "<Figure size 640x480 with 1 Axes>"
            ],
            "image/png": "[encoded data removed]"
          },
          "metadata": {}
        }
      ]
    },
    {
      "cell_type": "markdown",
      "source": [
        "**4. Create 5-point summary and visualize it:**\n",
        "\n",
        "I will use the describe() function in pandas to get the 5-number summary. Visualization will be done using box plots as follow."
      ],
      "metadata": {
        "id": "X--I2fl08T3Y"
      }
    },
    {
      "cell_type": "code",
      "source": [
        "# 5-point summary as follow\n",
        "five_point_summary = numeric_attributes.describe().transpose()\n",
        "\n",
        "# Box plot as follow\n",
        "five_point_summary[['min', '25%', '50%', '75%', 'max']].plot(kind='box')\n",
        "plt.title('Given 5-Point Summary for Numeric Attributes')\n",
        "plt.show()\n"
      ],
      "metadata": {
        "colab": {
          "base_uri": "https://localhost:8080/",
          "height": 452
        },
        "id": "POMaNLjG8Yl4",
        "outputId": "19a06457-3b8f-494a-a965-7415abd75288"
      },
      "execution_count": 6,
      "outputs": [
        {
          "output_type": "display_data",
          "data": {
            "text/plain": [
              "<Figure size 640x480 with 1 Axes>"
            ],
            "image/png": "[encoded data removed]"
          },
          "metadata": {}
        }
      ]
    },
    {
      "cell_type": "markdown",
      "source": [
        "**5. Create histogram (with 5 bins) from Sepal Length and Petal Width:**\n",
        "\n",
        "I am using the hist() function from matplotlib to create histograms.\n",
        "\n",
        "I will make sure to have the necessary libraries installed (pandas and matplotlib). I am installing them using:\n",
        "\n",
        "pip install pandas matplotlib\n",
        "\n",
        "After that i will Run these code snippets in a Python environment, and I will be able to achieve the tasks outlined in my problem statement."
      ],
      "metadata": {
        "id": "m79CmOd88euo"
      }
    },
    {
      "cell_type": "code",
      "source": [
        "pip install pandas matplotlib\n"
      ],
      "metadata": {
        "colab": {
          "base_uri": "https://localhost:8080/"
        },
        "id": "Z9JL2zag94yU",
        "outputId": "75a91ef4-99a4-4372-d36e-d40ccf676509"
      },
      "execution_count": 7,
      "outputs": [
        {
          "output_type": "stream",
          "name": "stdout",
          "text": [
            "Requirement already satisfied: pandas in /usr/local/lib/python3.10/dist-packages (1.5.3)\n",
            "Requirement already satisfied: matplotlib in /usr/local/lib/python3.10/dist-packages (3.7.1)\n",
            "Requirement already satisfied: python-dateutil>=2.8.1 in /usr/local/lib/python3.10/dist-packages (from pandas) (2.8.2)\n",
            "Requirement already satisfied: pytz>=2020.1 in /usr/local/lib/python3.10/dist-packages (from pandas) (2023.3.post1)\n",
            "Requirement already satisfied: numpy>=1.21.0 in /usr/local/lib/python3.10/dist-packages (from pandas) (1.23.5)\n",
            "Requirement already satisfied: contourpy>=1.0.1 in /usr/local/lib/python3.10/dist-packages (from matplotlib) (1.1.1)\n",
            "Requirement already satisfied: cycler>=0.10 in /usr/local/lib/python3.10/dist-packages (from matplotlib) (0.12.1)\n",
            "Requirement already satisfied: fonttools>=4.22.0 in /usr/local/lib/python3.10/dist-packages (from matplotlib) (4.43.1)\n",
            "Requirement already satisfied: kiwisolver>=1.0.1 in /usr/local/lib/python3.10/dist-packages (from matplotlib) (1.4.5)\n",
            "Requirement already satisfied: packaging>=20.0 in /usr/local/lib/python3.10/dist-packages (from matplotlib) (23.2)\n",
            "Requirement already satisfied: pillow>=6.2.0 in /usr/local/lib/python3.10/dist-packages (from matplotlib) (9.4.0)\n",
            "Requirement already satisfied: pyparsing>=2.3.1 in /usr/local/lib/python3.10/dist-packages (from matplotlib) (3.1.1)\n",
            "Requirement already satisfied: six>=1.5 in /usr/local/lib/python3.10/dist-packages (from python-dateutil>=2.8.1->pandas) (1.16.0)\n"
          ]
        }
      ]
    },
    {
      "cell_type": "code",
      "source": [
        "# Dispaly Histogram for Sepal Length\n",
        "plt.hist(iris_df[\"sepal_length\"], bins=5, edgecolor='black')\n",
        "plt.xlabel(\"X Sepal Length\")\n",
        "plt.ylabel(\"Y Frequency\")\n",
        "plt.title(\"Histogram for Sepal Length\")\n",
        "plt.show()\n",
        "\n",
        "# Dispaly Histogram for Petal Width\n",
        "plt.hist(iris_df[\"petal_width\"], bins=5, edgecolor='black')\n",
        "plt.xlabel(\"X Petal Width\")\n",
        "plt.ylabel(\"Y Frequency\")\n",
        "plt.title(\"Histogram for Petal Width\")\n",
        "plt.show()\n"
      ],
      "metadata": {
        "colab": {
          "base_uri": "https://localhost:8080/",
          "height": 927
        },
        "id": "v_H_Lg258l0o",
        "outputId": "accbe452-277d-4aa6-ceaf-32d4c46529d1"
      },
      "execution_count": 9,
      "outputs": [
        {
          "output_type": "display_data",
          "data": {
            "text/plain": [
              "<Figure size 640x480 with 1 Axes>"
            ],
            "image/png": "[encoded data removed]"
          },
          "metadata": {}
        },
        {
          "output_type": "display_data",
          "data": {
            "text/plain": [
              "<Figure size 640x480 with 1 Axes>"
            ],
            "image/png": "[encoded data removed]"
          },
          "metadata": {}
        }
      ]
    },
    {
      "cell_type": "markdown",
      "source": [
        "\n",
        "**Problem statement: 2 – 9 Marks - Classification**\n",
        "\n",
        "Predict if a customer is satisfied or dissatisfied with their banking experience.\n",
        "\n",
        "Tags:                     E-commerce, banking, binary classification\n",
        "\n",
        "Description:       You are given an anonymized dataset with a large number of numeric Features. The output variable is a customer satisfied or unsatisfied.\n",
        "\n",
        "1. https://www.kaggle.com/competitions/santander-customer-satisfaction/data\n",
        "\n",
        "2. Identify right Machine Learning model to implement\n",
        "\n",
        "3. Implement either using Jupiter Notebook or in colab.\n"
      ],
      "metadata": {
        "id": "dpkYy6Pe9U8I"
      }
    },
    {
      "cell_type": "markdown",
      "source": [
        "**Problem Statement: Classification - Customer Satisfaction Prediction**\n",
        "\n",
        "**1. Get the Dataset:**\n",
        "Firstly, I have download dataset for Santander customer satisfaction competition from Kaggle. The dataset has numerous numeric features, and the task is to predict whether a customer is satisfied or dissatisfied.\n",
        "\n",
        "Dataset Link: https://www.kaggle.com/competitions/santander-customer-satisfaction/data\n",
        "\n",
        "**2. Identify the Right Machine Learning Model:**\n",
        "Since the dataset involves predicting customer satisfaction, which is a binary classification problem (satisfied or dissatisfied), suitable machine learning models include:\n",
        "\n",
        "-Logistic Regression\n",
        "\n",
        "-Decision Trees\n",
        "\n",
        "-Random Forest\n",
        "\n",
        "-Support Vector Machines (SVM)\n",
        "\n",
        "-Gradient Boosting algorithms (e.g., XGBoost)\n",
        "\n",
        "**3. Implementation in Colab:**\n",
        "Here is a basic outline for implementing the classification task in a Colab:"
      ],
      "metadata": {
        "id": "zd_To_-s-Ejz"
      }
    },
    {
      "cell_type": "markdown",
      "source": [
        "\n",
        "*   I will make sure to apply code to my specific dataset and requirements provided.\n",
        "Note:\n",
        "*   I will ensure that I have necessary Python libraries installed, before running the Colab file. I am installing them first.\n",
        "\n",
        "*  Using the provided Kaggle competition link for additional information and discussions related to the dataset/data and the competition details.\n",
        "\n",
        "*   First good to have Experiment with different models and hyperparameters to find the one that performs best for my specific classification tasks.\n",
        "\n",
        "*   I will modify and extend the provided code based on my specific needs and exploration of the dataset.\n",
        "\n"
      ],
      "metadata": {
        "id": "37NZpRCq-nxd"
      }
    },
    {
      "cell_type": "code",
      "source": [
        "pip install pandas scikit-learn\n"
      ],
      "metadata": {
        "colab": {
          "base_uri": "https://localhost:8080/"
        },
        "id": "7SomCHHX-g_S",
        "outputId": "af7d8bdf-e096-4fa3-e6f3-727edf09c964"
      },
      "execution_count": null,
      "outputs": [
        {
          "output_type": "stream",
          "name": "stdout",
          "text": [
            "Requirement already satisfied: pandas in /usr/local/lib/python3.10/dist-packages (1.5.3)\n",
            "Requirement already satisfied: scikit-learn in /usr/local/lib/python3.10/dist-packages (1.2.2)\n",
            "Requirement already satisfied: python-dateutil>=2.8.1 in /usr/local/lib/python3.10/dist-packages (from pandas) (2.8.2)\n",
            "Requirement already satisfied: pytz>=2020.1 in /usr/local/lib/python3.10/dist-packages (from pandas) (2023.3.post1)\n",
            "Requirement already satisfied: numpy>=1.21.0 in /usr/local/lib/python3.10/dist-packages (from pandas) (1.23.5)\n",
            "Requirement already satisfied: scipy>=1.3.2 in /usr/local/lib/python3.10/dist-packages (from scikit-learn) (1.11.3)\n",
            "Requirement already satisfied: joblib>=1.1.1 in /usr/local/lib/python3.10/dist-packages (from scikit-learn) (1.3.2)\n",
            "Requirement already satisfied: threadpoolctl>=2.0.0 in /usr/local/lib/python3.10/dist-packages (from scikit-learn) (3.2.0)\n",
            "Requirement already satisfied: six>=1.5 in /usr/local/lib/python3.10/dist-packages (from python-dateutil>=2.8.1->pandas) (1.16.0)\n"
          ]
        }
      ]
    },
    {
      "cell_type": "markdown",
      "source": [
        "**Read Dataset**"
      ],
      "metadata": {
        "id": "lEHxuEKnzqjM"
      }
    },
    {
      "cell_type": "code",
      "source": [
        "# Load and Read the dataset\n",
        "from google.colab import drive\n",
        "drive.mount('/content/drive')"
      ],
      "metadata": {
        "colab": {
          "base_uri": "https://localhost:8080/"
        },
        "id": "yzgSBf6t1MEZ",
        "outputId": "5f44c0c7-bf4c-4fd7-c27f-1a57a2ace80c"
      },
      "execution_count": 7,
      "outputs": [
        {
          "output_type": "stream",
          "name": "stdout",
          "text": [
            "Drive already mounted at /content/drive; to attempt to forcibly remount, call drive.mount(\"/content/drive\", force_remount=True).\n"
          ]
        }
      ]
    },
    {
      "cell_type": "markdown",
      "source": [
        "**Pandas Library installing**"
      ],
      "metadata": {
        "id": "zSE6slwE1YoL"
      }
    },
    {
      "cell_type": "code",
      "source": [
        "pip install pandas scikit-learn"
      ],
      "metadata": {
        "colab": {
          "base_uri": "https://localhost:8080/"
        },
        "id": "08Nqd7hj1syq",
        "outputId": "f1e1738a-876c-4b50-a869-fe33d6a1fc85"
      },
      "execution_count": 9,
      "outputs": [
        {
          "output_type": "stream",
          "name": "stdout",
          "text": [
            "Requirement already satisfied: pandas in /usr/local/lib/python3.10/dist-packages (1.5.3)\n",
            "Requirement already satisfied: scikit-learn in /usr/local/lib/python3.10/dist-packages (1.2.2)\n",
            "Requirement already satisfied: python-dateutil>=2.8.1 in /usr/local/lib/python3.10/dist-packages (from pandas) (2.8.2)\n",
            "Requirement already satisfied: pytz>=2020.1 in /usr/local/lib/python3.10/dist-packages (from pandas) (2023.3.post1)\n",
            "Requirement already satisfied: numpy>=1.21.0 in /usr/local/lib/python3.10/dist-packages (from pandas) (1.23.5)\n",
            "Requirement already satisfied: scipy>=1.3.2 in /usr/local/lib/python3.10/dist-packages (from scikit-learn) (1.11.3)\n",
            "Requirement already satisfied: joblib>=1.1.1 in /usr/local/lib/python3.10/dist-packages (from scikit-learn) (1.3.2)\n",
            "Requirement already satisfied: threadpoolctl>=2.0.0 in /usr/local/lib/python3.10/dist-packages (from scikit-learn) (3.2.0)\n",
            "Requirement already satisfied: six>=1.5 in /usr/local/lib/python3.10/dist-packages (from python-dateutil>=2.8.1->pandas) (1.16.0)\n"
          ]
        }
      ]
    },
    {
      "cell_type": "code",
      "source": [
        "!pip install feature_engine"
      ],
      "metadata": {
        "colab": {
          "base_uri": "https://localhost:8080/"
        },
        "id": "Phc0wMuu2pI6",
        "outputId": "48a29946-b408-42fb-b850-53b1f133b85a"
      },
      "execution_count": 14,
      "outputs": [
        {
          "output_type": "stream",
          "name": "stdout",
          "text": [
            "Requirement already satisfied: feature_engine in /usr/local/lib/python3.10/dist-packages (1.6.2)\n",
            "Requirement already satisfied: numpy>=1.18.2 in /usr/local/lib/python3.10/dist-packages (from feature_engine) (1.23.5)\n",
            "Requirement already satisfied: pandas>=1.0.3 in /usr/local/lib/python3.10/dist-packages (from feature_engine) (1.5.3)\n",
            "Requirement already satisfied: scikit-learn>=1.0.0 in /usr/local/lib/python3.10/dist-packages (from feature_engine) (1.2.2)\n",
            "Requirement already satisfied: scipy>=1.4.1 in /usr/local/lib/python3.10/dist-packages (from feature_engine) (1.11.3)\n",
            "Requirement already satisfied: statsmodels>=0.11.1 in /usr/local/lib/python3.10/dist-packages (from feature_engine) (0.14.0)\n",
            "Requirement already satisfied: python-dateutil>=2.8.1 in /usr/local/lib/python3.10/dist-packages (from pandas>=1.0.3->feature_engine) (2.8.2)\n",
            "Requirement already satisfied: pytz>=2020.1 in /usr/local/lib/python3.10/dist-packages (from pandas>=1.0.3->feature_engine) (2023.3.post1)\n",
            "Requirement already satisfied: joblib>=1.1.1 in /usr/local/lib/python3.10/dist-packages (from scikit-learn>=1.0.0->feature_engine) (1.3.2)\n",
            "Requirement already satisfied: threadpoolctl>=2.0.0 in /usr/local/lib/python3.10/dist-packages (from scikit-learn>=1.0.0->feature_engine) (3.2.0)\n",
            "Requirement already satisfied: patsy>=0.5.2 in /usr/local/lib/python3.10/dist-packages (from statsmodels>=0.11.1->feature_engine) (0.5.3)\n",
            "Requirement already satisfied: packaging>=21.3 in /usr/local/lib/python3.10/dist-packages (from statsmodels>=0.11.1->feature_engine) (23.2)\n",
            "Requirement already satisfied: six in /usr/local/lib/python3.10/dist-packages (from patsy>=0.5.2->statsmodels>=0.11.1->feature_engine) (1.16.0)\n"
          ]
        }
      ]
    },
    {
      "cell_type": "code",
      "source": [
        "# Import necessary libraries\n",
        "import pandas as pd\n",
        "import itertools\n",
        "import numpy as np\n",
        "import seaborn as sns\n",
        "import matplotlib.pyplot as plt\n",
        "from feature_engine.selection import DropConstantFeatures, DropDuplicateFeatures, DropCorrelatedFeatures\n",
        "\n",
        "from sklearn.model_selection import train_test_split\n",
        "from sklearn.preprocessing import StandardScaler\n",
        "from sklearn.model_selection import cross_val_score\n",
        "from sklearn.metrics import accuracy_score, classification_report, confusion_matrix\n",
        "from sklearn.ensemble import RandomForestClassifier  # Example model, you can choose based on experimentation\n",
        "from itertools import chain\n",
        "from xgboost import XGBClassifier\n",
        "\n",
        "train = pd.read_csv('/content/drive/MyDrive/satish/traindata.csv')\n",
        "train.head()\n",
        "#print(train)\n",
        "#testdata = pd.read_csv('/content/drive/MyDrive/satish/testdata.csv')\n",
        "\n",
        "# Describe train dataset\n",
        "train.describe()\n"
      ],
      "metadata": {
        "colab": {
          "base_uri": "https://localhost:8080/",
          "height": 350
        },
        "id": "3XdXplRe-UHi",
        "outputId": "94e6c95e-4238-4fed-faa5-12285bc7d2b2"
      },
      "execution_count": 115,
      "outputs": [
        {
          "output_type": "execute_result",
          "data": {
            "text/plain": [
              "                  ID           var3         var15  imp_ent_var16_ult1  \\\n",
              "count   76020.000000   76020.000000  76020.000000        76020.000000   \n",
              "mean    75964.050723   -1523.199277     33.212865           86.208265   \n",
              "std     43781.947379   39033.462364     12.956486         1614.757313   \n",
              "min         1.000000 -999999.000000      5.000000            0.000000   \n",
              "25%     38104.750000       2.000000     23.000000            0.000000   \n",
              "50%     76043.000000       2.000000     28.000000            0.000000   \n",
              "75%    113748.750000       2.000000     40.000000            0.000000   \n",
              "max    151838.000000     238.000000    105.000000       210000.000000   \n",
              "\n",
              "       imp_op_var39_comer_ult1  imp_op_var39_comer_ult3  \\\n",
              "count             76020.000000             76020.000000   \n",
              "mean                 72.363067               119.529632   \n",
              "std                 339.315831               546.266294   \n",
              "min                   0.000000                 0.000000   \n",
              "25%                   0.000000                 0.000000   \n",
              "50%                   0.000000                 0.000000   \n",
              "75%                   0.000000                 0.000000   \n",
              "max               12888.030000             21024.810000   \n",
              "\n",
              "       imp_op_var40_comer_ult1  imp_op_var40_comer_ult3  \\\n",
              "count             76020.000000             76020.000000   \n",
              "mean                  3.559130                 6.472698   \n",
              "std                  93.155749               153.737066   \n",
              "min                   0.000000                 0.000000   \n",
              "25%                   0.000000                 0.000000   \n",
              "50%                   0.000000                 0.000000   \n",
              "75%                   0.000000                 0.000000   \n",
              "max                8237.820000             11073.570000   \n",
              "\n",
              "       imp_op_var40_efect_ult1  imp_op_var40_efect_ult3  ...  \\\n",
              "count             76020.000000             76020.000000  ...   \n",
              "mean                  0.412946                 0.567352  ...   \n",
              "std                  30.604864                36.513513  ...   \n",
              "min                   0.000000                 0.000000  ...   \n",
              "25%                   0.000000                 0.000000  ...   \n",
              "50%                   0.000000                 0.000000  ...   \n",
              "75%                   0.000000                 0.000000  ...   \n",
              "max                6600.000000              6600.000000  ...   \n",
              "\n",
              "       saldo_medio_var33_hace2  saldo_medio_var33_hace3  \\\n",
              "count             76020.000000             76020.000000   \n",
              "mean                  7.935824                 1.365146   \n",
              "std                 455.887218               113.959637   \n",
              "min                   0.000000                 0.000000   \n",
              "25%                   0.000000                 0.000000   \n",
              "50%                   0.000000                 0.000000   \n",
              "75%                   0.000000                 0.000000   \n",
              "max               50003.880000             20385.720000   \n",
              "\n",
              "       saldo_medio_var33_ult1  saldo_medio_var33_ult3  \\\n",
              "count            76020.000000            76020.000000   \n",
              "mean                12.215580                8.784074   \n",
              "std                783.207399              538.439211   \n",
              "min                  0.000000                0.000000   \n",
              "25%                  0.000000                0.000000   \n",
              "50%                  0.000000                0.000000   \n",
              "75%                  0.000000                0.000000   \n",
              "max             138831.630000            91778.730000   \n",
              "\n",
              "       saldo_medio_var44_hace2  saldo_medio_var44_hace3  \\\n",
              "count             76020.000000             76020.000000   \n",
              "mean                 31.505324                 1.858575   \n",
              "std                2013.125393               147.786584   \n",
              "min                   0.000000                 0.000000   \n",
              "25%                   0.000000                 0.000000   \n",
              "50%                   0.000000                 0.000000   \n",
              "75%                   0.000000                 0.000000   \n",
              "max              438329.220000             24650.010000   \n",
              "\n",
              "       saldo_medio_var44_ult1  saldo_medio_var44_ult3         var38  \\\n",
              "count            76020.000000            76020.000000  7.602000e+04   \n",
              "mean                76.026165               56.614351  1.172358e+05   \n",
              "std               4040.337842             2852.579397  1.826646e+05   \n",
              "min                  0.000000                0.000000  5.163750e+03   \n",
              "25%                  0.000000                0.000000  6.787061e+04   \n",
              "50%                  0.000000                0.000000  1.064092e+05   \n",
              "75%                  0.000000                0.000000  1.187563e+05   \n",
              "max             681462.900000           397884.300000  2.203474e+07   \n",
              "\n",
              "             TARGET  \n",
              "count  76020.000000  \n",
              "mean       0.039569  \n",
              "std        0.194945  \n",
              "min        0.000000  \n",
              "25%        0.000000  \n",
              "50%        0.000000  \n",
              "75%        0.000000  \n",
              "max        1.000000  \n",
              "\n",
              "[8 rows x 371 columns]"
            ],
            "text/html": [
              "\n",
              "  <div id=\"df-b4ed8fbe-6a73-4e82-be2a-00f77e2a657f\" class=\"colab-df-container\">\n",
              "    <div>\n",
              "<style scoped>\n",
              "    .dataframe tbody tr th:only-of-type {\n",
              "        vertical-align: middle;\n",
              "    }\n",
              "\n",
              "    .dataframe tbody tr th {\n",
              "        vertical-align: top;\n",
              "    }\n",
              "\n",
              "    .dataframe thead th {\n",
              "        text-align: right;\n",
              "    }\n",
              "</style>\n",
              "<table border=\"1\" class=\"dataframe\">\n",
              "  <thead>\n",
              "    <tr style=\"text-align: right;\">\n",
              "      <th></th>\n",
              "      <th>ID</th>\n",
              "      <th>var3</th>\n",
              "      <th>var15</th>\n",
              "      <th>imp_ent_var16_ult1</th>\n",
              "      <th>imp_op_var39_comer_ult1</th>\n",
              "      <th>imp_op_var39_comer_ult3</th>\n",
              "      <th>imp_op_var40_comer_ult1</th>\n",
              "      <th>imp_op_var40_comer_ult3</th>\n",
              "      <th>imp_op_var40_efect_ult1</th>\n",
              "      <th>imp_op_var40_efect_ult3</th>\n",
              "      <th>...</th>\n",
              "      <th>saldo_medio_var33_hace2</th>\n",
              "      <th>saldo_medio_var33_hace3</th>\n",
              "      <th>saldo_medio_var33_ult1</th>\n",
              "      <th>saldo_medio_var33_ult3</th>\n",
              "      <th>saldo_medio_var44_hace2</th>\n",
              "      <th>saldo_medio_var44_hace3</th>\n",
              "      <th>saldo_medio_var44_ult1</th>\n",
              "      <th>saldo_medio_var44_ult3</th>\n",
              "      <th>var38</th>\n",
              "      <th>TARGET</th>\n",
              "    </tr>\n",
              "  </thead>\n",
              "  <tbody>\n",
              "    <tr>\n",
              "      <th>count</th>\n",
              "      <td>76020.000000</td>\n",
              "      <td>76020.000000</td>\n",
              "      <td>76020.000000</td>\n",
              "      <td>76020.000000</td>\n",
              "      <td>76020.000000</td>\n",
              "      <td>76020.000000</td>\n",
              "      <td>76020.000000</td>\n",
              "      <td>76020.000000</td>\n",
              "      <td>76020.000000</td>\n",
              "      <td>76020.000000</td>\n",
              "      <td>...</td>\n",
              "      <td>76020.000000</td>\n",
              "      <td>76020.000000</td>\n",
              "      <td>76020.000000</td>\n",
              "      <td>76020.000000</td>\n",
              "      <td>76020.000000</td>\n",
              "      <td>76020.000000</td>\n",
              "      <td>76020.000000</td>\n",
              "      <td>76020.000000</td>\n",
              "      <td>7.602000e+04</td>\n",
              "      <td>76020.000000</td>\n",
              "    </tr>\n",
              "    <tr>\n",
              "      <th>mean</th>\n",
              "      <td>75964.050723</td>\n",
              "      <td>-1523.199277</td>\n",
              "      <td>33.212865</td>\n",
              "      <td>86.208265</td>\n",
              "      <td>72.363067</td>\n",
              "      <td>119.529632</td>\n",
              "      <td>3.559130</td>\n",
              "      <td>6.472698</td>\n",
              "      <td>0.412946</td>\n",
              "      <td>0.567352</td>\n",
              "      <td>...</td>\n",
              "      <td>7.935824</td>\n",
              "      <td>1.365146</td>\n",
              "      <td>12.215580</td>\n",
              "      <td>8.784074</td>\n",
              "      <td>31.505324</td>\n",
              "      <td>1.858575</td>\n",
              "      <td>76.026165</td>\n",
              "      <td>56.614351</td>\n",
              "      <td>1.172358e+05</td>\n",
              "      <td>0.039569</td>\n",
              "    </tr>\n",
              "    <tr>\n",
              "      <th>std</th>\n",
              "      <td>43781.947379</td>\n",
              "      <td>39033.462364</td>\n",
              "      <td>12.956486</td>\n",
              "      <td>1614.757313</td>\n",
              "      <td>339.315831</td>\n",
              "      <td>546.266294</td>\n",
              "      <td>93.155749</td>\n",
              "      <td>153.737066</td>\n",
              "      <td>30.604864</td>\n",
              "      <td>36.513513</td>\n",
              "      <td>...</td>\n",
              "      <td>455.887218</td>\n",
              "      <td>113.959637</td>\n",
              "      <td>783.207399</td>\n",
              "      <td>538.439211</td>\n",
              "      <td>2013.125393</td>\n",
              "      <td>147.786584</td>\n",
              "      <td>4040.337842</td>\n",
              "      <td>2852.579397</td>\n",
              "      <td>1.826646e+05</td>\n",
              "      <td>0.194945</td>\n",
              "    </tr>\n",
              "    <tr>\n",
              "      <th>min</th>\n",
              "      <td>1.000000</td>\n",
              "      <td>-999999.000000</td>\n",
              "      <td>5.000000</td>\n",
              "      <td>0.000000</td>\n",
              "      <td>0.000000</td>\n",
              "      <td>0.000000</td>\n",
              "      <td>0.000000</td>\n",
              "      <td>0.000000</td>\n",
              "      <td>0.000000</td>\n",
              "      <td>0.000000</td>\n",
              "      <td>...</td>\n",
              "      <td>0.000000</td>\n",
              "      <td>0.000000</td>\n",
              "      <td>0.000000</td>\n",
              "      <td>0.000000</td>\n",
              "      <td>0.000000</td>\n",
              "      <td>0.000000</td>\n",
              "      <td>0.000000</td>\n",
              "      <td>0.000000</td>\n",
              "      <td>5.163750e+03</td>\n",
              "      <td>0.000000</td>\n",
              "    </tr>\n",
              "    <tr>\n",
              "      <th>25%</th>\n",
              "      <td>38104.750000</td>\n",
              "      <td>2.000000</td>\n",
              "      <td>23.000000</td>\n",
              "      <td>0.000000</td>\n",
              "      <td>0.000000</td>\n",
              "      <td>0.000000</td>\n",
              "      <td>0.000000</td>\n",
              "      <td>0.000000</td>\n",
              "      <td>0.000000</td>\n",
              "      <td>0.000000</td>\n",
              "      <td>...</td>\n",
              "      <td>0.000000</td>\n",
              "      <td>0.000000</td>\n",
              "      <td>0.000000</td>\n",
              "      <td>0.000000</td>\n",
              "      <td>0.000000</td>\n",
              "      <td>0.000000</td>\n",
              "      <td>0.000000</td>\n",
              "      <td>0.000000</td>\n",
              "      <td>6.787061e+04</td>\n",
              "      <td>0.000000</td>\n",
              "    </tr>\n",
              "    <tr>\n",
              "      <th>50%</th>\n",
              "      <td>76043.000000</td>\n",
              "      <td>2.000000</td>\n",
              "      <td>28.000000</td>\n",
              "      <td>0.000000</td>\n",
              "      <td>0.000000</td>\n",
              "      <td>0.000000</td>\n",
              "      <td>0.000000</td>\n",
              "      <td>0.000000</td>\n",
              "      <td>0.000000</td>\n",
              "      <td>0.000000</td>\n",
              "      <td>...</td>\n",
              "      <td>0.000000</td>\n",
              "      <td>0.000000</td>\n",
              "      <td>0.000000</td>\n",
              "      <td>0.000000</td>\n",
              "      <td>0.000000</td>\n",
              "      <td>0.000000</td>\n",
              "      <td>0.000000</td>\n",
              "      <td>0.000000</td>\n",
              "      <td>1.064092e+05</td>\n",
              "      <td>0.000000</td>\n",
              "    </tr>\n",
              "    <tr>\n",
              "      <th>75%</th>\n",
              "      <td>113748.750000</td>\n",
              "      <td>2.000000</td>\n",
              "      <td>40.000000</td>\n",
              "      <td>0.000000</td>\n",
              "      <td>0.000000</td>\n",
              "      <td>0.000000</td>\n",
              "      <td>0.000000</td>\n",
              "      <td>0.000000</td>\n",
              "      <td>0.000000</td>\n",
              "      <td>0.000000</td>\n",
              "      <td>...</td>\n",
              "      <td>0.000000</td>\n",
              "      <td>0.000000</td>\n",
              "      <td>0.000000</td>\n",
              "      <td>0.000000</td>\n",
              "      <td>0.000000</td>\n",
              "      <td>0.000000</td>\n",
              "      <td>0.000000</td>\n",
              "      <td>0.000000</td>\n",
              "      <td>1.187563e+05</td>\n",
              "      <td>0.000000</td>\n",
              "    </tr>\n",
              "    <tr>\n",
              "      <th>max</th>\n",
              "      <td>151838.000000</td>\n",
              "      <td>238.000000</td>\n",
              "      <td>105.000000</td>\n",
              "      <td>210000.000000</td>\n",
              "      <td>12888.030000</td>\n",
              "      <td>21024.810000</td>\n",
              "      <td>8237.820000</td>\n",
              "      <td>11073.570000</td>\n",
              "      <td>6600.000000</td>\n",
              "      <td>6600.000000</td>\n",
              "      <td>...</td>\n",
              "      <td>50003.880000</td>\n",
              "      <td>20385.720000</td>\n",
              "      <td>138831.630000</td>\n",
              "      <td>91778.730000</td>\n",
              "      <td>438329.220000</td>\n",
              "      <td>24650.010000</td>\n",
              "      <td>681462.900000</td>\n",
              "      <td>397884.300000</td>\n",
              "      <td>2.203474e+07</td>\n",
              "      <td>1.000000</td>\n",
              "    </tr>\n",
              "  </tbody>\n",
              "</table>\n",
              "<p>8 rows × 371 columns</p>\n",
              "</div>\n",
              "    <div class=\"colab-df-buttons\">\n",
              "\n",
              "  <div class=\"colab-df-container\">\n",
              "    <button class=\"colab-df-convert\" onclick=\"convertToInteractive('df-b4ed8fbe-6a73-4e82-be2a-00f77e2a657f')\"\n",
              "            title=\"Convert this dataframe to an interactive table.\"\n",
              "            style=\"display:none;\">\n",
              "\n",
              "  <svg xmlns=\"http://www.w3.org/2000/svg\" height=\"24px\" viewBox=\"0 -960 960 960\">\n",
              "    <path d=\"M120-120v-720h720v720H120Zm60-500h600v-160H180v160Zm220 220h160v-160H400v160Zm0 220h160v-160H400v160ZM180-400h160v-160H180v160Zm440 0h160v-160H620v160ZM180-180h160v-160H180v160Zm440 0h160v-160H620v160Z\"/>\n",
              "  </svg>\n",
              "    </button>\n",
              "\n",
              "  <style>\n",
              "    .colab-df-container {\n",
              "      display:flex;\n",
              "      gap: 12px;\n",
              "    }\n",
              "\n",
              "    .colab-df-convert {\n",
              "      background-color: #E8F0FE;\n",
              "      border: none;\n",
              "      border-radius: 50%;\n",
              "      cursor: pointer;\n",
              "      display: none;\n",
              "      fill: #1967D2;\n",
              "      height: 32px;\n",
              "      padding: 0 0 0 0;\n",
              "      width: 32px;\n",
              "    }\n",
              "\n",
              "    .colab-df-convert:hover {\n",
              "      background-color: #E2EBFA;\n",
              "      box-shadow: 0px 1px 2px rgba(60, 64, 67, 0.3), 0px 1px 3px 1px rgba(60, 64, 67, 0.15);\n",
              "      fill: #174EA6;\n",
              "    }\n",
              "\n",
              "    .colab-df-buttons div {\n",
              "      margin-bottom: 4px;\n",
              "    }\n",
              "\n",
              "    [theme=dark] .colab-df-convert {\n",
              "      background-color: #3B4455;\n",
              "      fill: #D2E3FC;\n",
              "    }\n",
              "\n",
              "    [theme=dark] .colab-df-convert:hover {\n",
              "      background-color: #434B5C;\n",
              "      box-shadow: 0px 1px 3px 1px rgba(0, 0, 0, 0.15);\n",
              "      filter: drop-shadow(0px 1px 2px rgba(0, 0, 0, 0.3));\n",
              "      fill: #FFFFFF;\n",
              "    }\n",
              "  </style>\n",
              "\n",
              "    <script>\n",
              "      const buttonEl =\n",
              "        document.querySelector('#df-b4ed8fbe-6a73-4e82-be2a-00f77e2a657f button.colab-df-convert');\n",
              "      buttonEl.style.display =\n",
              "        google.colab.kernel.accessAllowed ? 'block' : 'none';\n",
              "\n",
              "      async function convertToInteractive(key) {\n",
              "        const element = document.querySelector('#df-b4ed8fbe-6a73-4e82-be2a-00f77e2a657f');\n",
              "        const dataTable =\n",
              "          await google.colab.kernel.invokeFunction('convertToInteractive',\n",
              "                                                    [key], {});\n",
              "        if (!dataTable) return;\n",
              "\n",
              "        const docLinkHtml = 'Like what you see? Visit the ' +\n",
              "          '<a target=\"_blank\" href=https://colab.research.google.com/notebooks/data_table.ipynb>data table notebook</a>'\n",
              "          + ' to learn more about interactive tables.';\n",
              "        element.innerHTML = '';\n",
              "        dataTable['output_type'] = 'display_data';\n",
              "        await google.colab.output.renderOutput(dataTable, element);\n",
              "        const docLink = document.createElement('div');\n",
              "        docLink.innerHTML = docLinkHtml;\n",
              "        element.appendChild(docLink);\n",
              "      }\n",
              "    </script>\n",
              "  </div>\n",
              "\n",
              "\n",
              "<div id=\"df-bd28c7c9-d51f-4bce-824b-b3aa1865772d\">\n",
              "  <button class=\"colab-df-quickchart\" onclick=\"quickchart('df-bd28c7c9-d51f-4bce-824b-b3aa1865772d')\"\n",
              "            title=\"Suggest charts.\"\n",
              "            style=\"display:none;\">\n",
              "\n",
              "<svg xmlns=\"http://www.w3.org/2000/svg\" height=\"24px\"viewBox=\"0 0 24 24\"\n",
              "     width=\"24px\">\n",
              "    <g>\n",
              "        <path d=\"M19 3H5c-1.1 0-2 .9-2 2v14c0 1.1.9 2 2 2h14c1.1 0 2-.9 2-2V5c0-1.1-.9-2-2-2zM9 17H7v-7h2v7zm4 0h-2V7h2v10zm4 0h-2v-4h2v4z\"/>\n",
              "    </g>\n",
              "</svg>\n",
              "  </button>\n",
              "\n",
              "<style>\n",
              "  .colab-df-quickchart {\n",
              "      --bg-color: #E8F0FE;\n",
              "      --fill-color: #1967D2;\n",
              "      --hover-bg-color: #E2EBFA;\n",
              "      --hover-fill-color: #174EA6;\n",
              "      --disabled-fill-color: #AAA;\n",
              "      --disabled-bg-color: #DDD;\n",
              "  }\n",
              "\n",
              "  [theme=dark] .colab-df-quickchart {\n",
              "      --bg-color: #3B4455;\n",
              "      --fill-color: #D2E3FC;\n",
              "      --hover-bg-color: #434B5C;\n",
              "      --hover-fill-color: #FFFFFF;\n",
              "      --disabled-bg-color: #3B4455;\n",
              "      --disabled-fill-color: #666;\n",
              "  }\n",
              "\n",
              "  .colab-df-quickchart {\n",
              "    background-color: var(--bg-color);\n",
              "    border: none;\n",
              "    border-radius: 50%;\n",
              "    cursor: pointer;\n",
              "    display: none;\n",
              "    fill: var(--fill-color);\n",
              "    height: 32px;\n",
              "    padding: 0;\n",
              "    width: 32px;\n",
              "  }\n",
              "\n",
              "  .colab-df-quickchart:hover {\n",
              "    background-color: var(--hover-bg-color);\n",
              "    box-shadow: 0 1px 2px rgba(60, 64, 67, 0.3), 0 1px 3px 1px rgba(60, 64, 67, 0.15);\n",
              "    fill: var(--button-hover-fill-color);\n",
              "  }\n",
              "\n",
              "  .colab-df-quickchart-complete:disabled,\n",
              "  .colab-df-quickchart-complete:disabled:hover {\n",
              "    background-color: var(--disabled-bg-color);\n",
              "    fill: var(--disabled-fill-color);\n",
              "    box-shadow: none;\n",
              "  }\n",
              "\n",
              "  .colab-df-spinner {\n",
              "    border: 2px solid var(--fill-color);\n",
              "    border-color: transparent;\n",
              "    border-bottom-color: var(--fill-color);\n",
              "    animation:\n",
              "      spin 1s steps(1) infinite;\n",
              "  }\n",
              "\n",
              "  @keyframes spin {\n",
              "    0% {\n",
              "      border-color: transparent;\n",
              "      border-bottom-color: var(--fill-color);\n",
              "      border-left-color: var(--fill-color);\n",
              "    }\n",
              "    20% {\n",
              "      border-color: transparent;\n",
              "      border-left-color: var(--fill-color);\n",
              "      border-top-color: var(--fill-color);\n",
              "    }\n",
              "    30% {\n",
              "      border-color: transparent;\n",
              "      border-left-color: var(--fill-color);\n",
              "      border-top-color: var(--fill-color);\n",
              "      border-right-color: var(--fill-color);\n",
              "    }\n",
              "    40% {\n",
              "      border-color: transparent;\n",
              "      border-right-color: var(--fill-color);\n",
              "      border-top-color: var(--fill-color);\n",
              "    }\n",
              "    60% {\n",
              "      border-color: transparent;\n",
              "      border-right-color: var(--fill-color);\n",
              "    }\n",
              "    80% {\n",
              "      border-color: transparent;\n",
              "      border-right-color: var(--fill-color);\n",
              "      border-bottom-color: var(--fill-color);\n",
              "    }\n",
              "    90% {\n",
              "      border-color: transparent;\n",
              "      border-bottom-color: var(--fill-color);\n",
              "    }\n",
              "  }\n",
              "</style>\n",
              "\n",
              "  <script>\n",
              "    async function quickchart(key) {\n",
              "      const quickchartButtonEl =\n",
              "        document.querySelector('#' + key + ' button');\n",
              "      quickchartButtonEl.disabled = true;  // To prevent multiple clicks.\n",
              "      quickchartButtonEl.classList.add('colab-df-spinner');\n",
              "      try {\n",
              "        const charts = await google.colab.kernel.invokeFunction(\n",
              "            'suggestCharts', [key], {});\n",
              "      } catch (error) {\n",
              "        console.error('Error during call to suggestCharts:', error);\n",
              "      }\n",
              "      quickchartButtonEl.classList.remove('colab-df-spinner');\n",
              "      quickchartButtonEl.classList.add('colab-df-quickchart-complete');\n",
              "    }\n",
              "    (() => {\n",
              "      let quickchartButtonEl =\n",
              "        document.querySelector('#df-bd28c7c9-d51f-4bce-824b-b3aa1865772d button');\n",
              "      quickchartButtonEl.style.display =\n",
              "        google.colab.kernel.accessAllowed ? 'block' : 'none';\n",
              "    })();\n",
              "  </script>\n",
              "</div>\n",
              "    </div>\n",
              "  </div>\n"
            ]
          },
          "metadata": {},
          "execution_count": 115
        }
      ]
    },
    {
      "cell_type": "markdown",
      "source": [
        "**Feature Preprocessing**"
      ],
      "metadata": {
        "id": "joCeuo6qDeDq"
      }
    },
    {
      "cell_type": "code",
      "source": [
        "# Next, Exploring and preprocess the data\n",
        "# Handle missing values, feature engineering.)\n",
        "\n",
        "#code for removing features with 0 variance\n",
        "i=0\n",
        "for col in train.columns: #removing all features with null variance/zero variance\n",
        "    if train[col].var()==0:\n",
        "        i+=1\n",
        "        del train[col]\n",
        "\n",
        "print(\"\\n\\n Train data after removing all features with null variance/zero variance\\n\")\n",
        "print(train)\n",
        "print(\"\\n\\n\\n\")"
      ],
      "metadata": {
        "colab": {
          "base_uri": "https://localhost:8080/"
        },
        "id": "UQHxpEmYDl4q",
        "outputId": "f8d5cf51-9f09-4232-cecb-111ad6cc5142"
      },
      "execution_count": 88,
      "outputs": [
        {
          "output_type": "stream",
          "name": "stdout",
          "text": [
            "\n",
            "\n",
            " Train data after removing all features with null variance/zero variance\n",
            "\n",
            "           ID  var3  var15  imp_ent_var16_ult1  imp_op_var39_comer_ult1  \\\n",
            "0           1     2     23                 0.0                      0.0   \n",
            "1           3     2     34                 0.0                      0.0   \n",
            "2           4     2     23                 0.0                      0.0   \n",
            "3           8     2     37                 0.0                    195.0   \n",
            "4          10     2     39                 0.0                      0.0   \n",
            "...       ...   ...    ...                 ...                      ...   \n",
            "76015  151829     2     48                 0.0                      0.0   \n",
            "76016  151830     2     39                 0.0                      0.0   \n",
            "76017  151835     2     23                 0.0                      0.0   \n",
            "76018  151836     2     25                 0.0                      0.0   \n",
            "76019  151838     2     46                 0.0                      0.0   \n",
            "\n",
            "       imp_op_var39_comer_ult3  imp_op_var40_comer_ult1  \\\n",
            "0                          0.0                      0.0   \n",
            "1                          0.0                      0.0   \n",
            "2                          0.0                      0.0   \n",
            "3                        195.0                      0.0   \n",
            "4                          0.0                      0.0   \n",
            "...                        ...                      ...   \n",
            "76015                      0.0                      0.0   \n",
            "76016                      0.0                      0.0   \n",
            "76017                      0.0                      0.0   \n",
            "76018                      0.0                      0.0   \n",
            "76019                      0.0                      0.0   \n",
            "\n",
            "       imp_op_var40_comer_ult3  imp_op_var40_efect_ult1  \\\n",
            "0                          0.0                      0.0   \n",
            "1                          0.0                      0.0   \n",
            "2                          0.0                      0.0   \n",
            "3                          0.0                      0.0   \n",
            "4                          0.0                      0.0   \n",
            "...                        ...                      ...   \n",
            "76015                      0.0                      0.0   \n",
            "76016                      0.0                      0.0   \n",
            "76017                      0.0                      0.0   \n",
            "76018                      0.0                      0.0   \n",
            "76019                      0.0                      0.0   \n",
            "\n",
            "       imp_op_var40_efect_ult3  ...  saldo_medio_var33_hace2  \\\n",
            "0                          0.0  ...                      0.0   \n",
            "1                          0.0  ...                      0.0   \n",
            "2                          0.0  ...                      0.0   \n",
            "3                          0.0  ...                      0.0   \n",
            "4                          0.0  ...                      0.0   \n",
            "...                        ...  ...                      ...   \n",
            "76015                      0.0  ...                      0.0   \n",
            "76016                      0.0  ...                      0.0   \n",
            "76017                      0.0  ...                      0.0   \n",
            "76018                      0.0  ...                      0.0   \n",
            "76019                      0.0  ...                      0.0   \n",
            "\n",
            "       saldo_medio_var33_hace3  saldo_medio_var33_ult1  \\\n",
            "0                          0.0                     0.0   \n",
            "1                          0.0                     0.0   \n",
            "2                          0.0                     0.0   \n",
            "3                          0.0                     0.0   \n",
            "4                          0.0                     0.0   \n",
            "...                        ...                     ...   \n",
            "76015                      0.0                     0.0   \n",
            "76016                      0.0                     0.0   \n",
            "76017                      0.0                     0.0   \n",
            "76018                      0.0                     0.0   \n",
            "76019                      0.0                     0.0   \n",
            "\n",
            "       saldo_medio_var33_ult3  saldo_medio_var44_hace2  \\\n",
            "0                         0.0                      0.0   \n",
            "1                         0.0                      0.0   \n",
            "2                         0.0                      0.0   \n",
            "3                         0.0                      0.0   \n",
            "4                         0.0                      0.0   \n",
            "...                       ...                      ...   \n",
            "76015                     0.0                      0.0   \n",
            "76016                     0.0                      0.0   \n",
            "76017                     0.0                      0.0   \n",
            "76018                     0.0                      0.0   \n",
            "76019                     0.0                      0.0   \n",
            "\n",
            "       saldo_medio_var44_hace3  saldo_medio_var44_ult1  \\\n",
            "0                          0.0                     0.0   \n",
            "1                          0.0                     0.0   \n",
            "2                          0.0                     0.0   \n",
            "3                          0.0                     0.0   \n",
            "4                          0.0                     0.0   \n",
            "...                        ...                     ...   \n",
            "76015                      0.0                     0.0   \n",
            "76016                      0.0                     0.0   \n",
            "76017                      0.0                     0.0   \n",
            "76018                      0.0                     0.0   \n",
            "76019                      0.0                     0.0   \n",
            "\n",
            "       saldo_medio_var44_ult3          var38  TARGET  \n",
            "0                         0.0   39205.170000       0  \n",
            "1                         0.0   49278.030000       0  \n",
            "2                         0.0   67333.770000       0  \n",
            "3                         0.0   64007.970000       0  \n",
            "4                         0.0  117310.979016       0  \n",
            "...                       ...            ...     ...  \n",
            "76015                     0.0   60926.490000       0  \n",
            "76016                     0.0  118634.520000       0  \n",
            "76017                     0.0   74028.150000       0  \n",
            "76018                     0.0   84278.160000       0  \n",
            "76019                     0.0  117310.979016       0  \n",
            "\n",
            "[76020 rows x 337 columns]\n",
            "\n",
            "\n",
            "\n",
            "\n"
          ]
        }
      ]
    },
    {
      "cell_type": "code",
      "source": [],
      "metadata": {
        "id": "XruBU9PFDno-"
      },
      "execution_count": null,
      "outputs": []
    },
    {
      "cell_type": "code",
      "source": [
        "##  Check if any null values in dataframe\n",
        "train.isnull().sum().sum()\n",
        "## No observations are Nan or None"
      ],
      "metadata": {
        "colab": {
          "base_uri": "https://localhost:8080/"
        },
        "id": "-af7NCuODt1x",
        "outputId": "efcee4a3-2ef3-4b75-81ea-530d8df4188f"
      },
      "execution_count": 89,
      "outputs": [
        {
          "output_type": "execute_result",
          "data": {
            "text/plain": [
              "0"
            ]
          },
          "metadata": {},
          "execution_count": 89
        }
      ]
    },
    {
      "cell_type": "code",
      "source": [
        "## Drop duplicate records\n",
        "train = train.drop(\"ID\", axis=1)\n",
        "original_records = train.shape[0]\n",
        "train = train.drop_duplicates()\n",
        "\n",
        "print(f\"I Dropped {original_records - train.shape[0]} duplicate records\")\n"
      ],
      "metadata": {
        "colab": {
          "base_uri": "https://localhost:8080/"
        },
        "id": "9j76dQH40wUf",
        "outputId": "78466ce7-2791-422c-bf4a-8fbc3f0bd581"
      },
      "execution_count": 116,
      "outputs": [
        {
          "output_type": "stream",
          "name": "stdout",
          "text": [
            "I Dropped 4807 duplicate records\n"
          ]
        }
      ]
    },
    {
      "cell_type": "code",
      "source": [
        "## Checking for Distribution of observations based on TARGET columns\n",
        "sns.set_style('whitegrid')\n",
        "sns.countplot(x = 'TARGET', data = train)\n",
        ""
      ],
      "metadata": {
        "colab": {
          "base_uri": "https://localhost:8080/",
          "height": 467
        },
        "id": "XPcPM2TqIA0g",
        "outputId": "4e1097a5-aae6-4174-f937-2be0d4cf1ca2"
      },
      "execution_count": 111,
      "outputs": [
        {
          "output_type": "execute_result",
          "data": {
            "text/plain": [
              "<Axes: xlabel='TARGET', ylabel='count'>"
            ]
          },
          "metadata": {},
          "execution_count": 111
        },
        {
          "output_type": "display_data",
          "data": {
            "text/plain": [
              "<Figure size 640x480 with 1 Axes>"
            ],
            "image/png": "[encoded data removed]"
          },
          "metadata": {}
        }
      ]
    },
    {
      "cell_type": "code",
      "source": [
        "## Count of class 0 and 1\n",
        "train.TARGET.value_counts()"
      ],
      "metadata": {
        "colab": {
          "base_uri": "https://localhost:8080/"
        },
        "id": "WFem554fIcp9",
        "outputId": "f0282fdd-b967-43ae-dfa9-5a09981352eb"
      },
      "execution_count": 117,
      "outputs": [
        {
          "output_type": "execute_result",
          "data": {
            "text/plain": [
              "0    68398\n",
              "1     2815\n",
              "Name: TARGET, dtype: int64"
            ]
          },
          "metadata": {},
          "execution_count": 117
        }
      ]
    },
    {
      "cell_type": "markdown",
      "source": [
        "\n",
        "Dataset seems to be heavily imbalanced with 95% observations belonging to class 0 (satisfied customers)\n",
        "\n"
      ],
      "metadata": {
        "id": "STYKDOEIInkL"
      }
    },
    {
      "cell_type": "code",
      "source": [
        "#I am writinh the code for removing duplicated columns.\n",
        "#print(\"\\nCode for removing duplicated columns\\n\")\n",
        "\n",
        "combinations = list(itertools.combinations(train.columns,2)) #getting all the combinations of columns\n",
        "remove=[]\n",
        "for f1,f2 in combinations: #finding all columns which have same datavalues, they don't share same feature name\n",
        "    if (f1 not in remove) & (f2 not in remove):\n",
        "        if train[f1].equals(train[f2]):\n",
        "            remove.append(f1)\n",
        "train.drop(remove,axis=1,inplace=True)\n",
        "#print(train)\n",
        "#print(testdata)\n",
        "print(\"Removed duplicated columns\")"
      ],
      "metadata": {
        "colab": {
          "base_uri": "https://localhost:8080/"
        },
        "id": "kKWxQFMBI3OF",
        "outputId": "efcab45e-2cd3-42f9-fba6-e370a1a847a6"
      },
      "execution_count": 118,
      "outputs": [
        {
          "output_type": "stream",
          "name": "stdout",
          "text": [
            "Removed duplicated columns\n"
          ]
        }
      ]
    },
    {
      "cell_type": "code",
      "source": [
        "## Spilt design matrix and target column\n",
        "## Separate features and target variable\n",
        "\n",
        "X = train.drop(['TARGET'], axis = 1)\n",
        "y = train['TARGET']\n",
        "\n",
        "# Split the dataset into training and testing sets\n",
        "# test_size=0.2, means 25% test data, 75% training data\n",
        "X_train, X_test, y_train, y_test = train_test_split(X, y, test_size=0.25, random_state=42)\n",
        "\n",
        "print(\"\\n\")\n",
        "#print(train)\n",
        "\n",
        "# Standardize the features\n",
        "scaler = StandardScaler()\n",
        "X_train_scaled = scaler.fit_transform(X_train)\n",
        "X_test_scaled = scaler.transform(X_test)\n",
        "\n",
        "# Choosing and train a model (Random Forest)\n",
        "model = RandomForestClassifier(n_estimators=100, random_state=42)\n",
        "model.fit(X_train_scaled, y_train)\n",
        "\n",
        "print(\"Evaluate the model Accuracy\\n\")\n",
        "\n",
        "# Evaluate the model\n",
        "y_pred = model.predict(X_test_scaled)\n",
        "accuracy = accuracy_score(y_test, y_pred)\n",
        "print(f\" Accuracy: {accuracy}\")\n",
        "\n",
        "# Additional evaluation metrics\n",
        "print(\"\\n Confusion Matrix: \\n\", confusion_matrix(y_test, y_pred))\n",
        "print(\"\\n Classification Report: \\n\", classification_report(y_test, y_pred))\n",
        "\n",
        "# Cross-validation scores\n",
        "cross_val_scores = cross_val_score(model, X_train_scaled, y_train, cv=5)\n",
        "print(\"\\n Cross-Validation Scores:\", cross_val_scores)\n",
        "\n",
        "print(\"\\n HAPPY CODING \\n Assignment completed. Thank you\")"
      ],
      "metadata": {
        "colab": {
          "base_uri": "https://localhost:8080/"
        },
        "id": "F5s-USruD6hX",
        "outputId": "5fbfaaf5-8211-475b-baa7-d77aa1c0e10e"
      },
      "execution_count": 119,
      "outputs": [
        {
          "output_type": "stream",
          "name": "stdout",
          "text": [
            "\n",
            "\n",
            "Evaluate the model Accuracy\n",
            "\n",
            " Accuracy: 0.9534374297910582\n",
            "\n",
            " Confusion Matrix: \n",
            " [[16932   198]\n",
            " [  631    43]]\n",
            "\n",
            " Classification Report: \n",
            "               precision    recall  f1-score   support\n",
            "\n",
            "           0       0.96      0.99      0.98     17130\n",
            "           1       0.18      0.06      0.09       674\n",
            "\n",
            "    accuracy                           0.95     17804\n",
            "   macro avg       0.57      0.53      0.54     17804\n",
            "weighted avg       0.93      0.95      0.94     17804\n",
            "\n",
            "\n",
            " Cross-Validation Scores: [0.95103913 0.95234975 0.95141359 0.95253698 0.95103455]\n",
            "\n",
            " HAPPY CODING \n",
            " Assignment completed. Thank you\n"
          ]
        }
      ]
    }
  ]
}